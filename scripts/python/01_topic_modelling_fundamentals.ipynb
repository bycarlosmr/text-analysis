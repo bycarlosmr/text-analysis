{
 "cells": [
  {
   "cell_type": "markdown",
   "metadata": {},
   "source": [
    "**Objective**: \n",
    "\n",
    "    - Given a list of docuemnts, determine the topic.\n",
    "    - Then aggregrate the documents and print the topic the documents belong too.\n",
    "    \n",
    "**Example**:\n",
    "    \n",
    "    Data\n",
    "    \n",
    "    it's very hot outside summer\n",
    "    there are not many flowers in winter\n",
    "    in the winter we eat hot food\n",
    "    in the summer we go to the sea\n",
    "    in winter we used many clothes\n",
    "    in summer we are on vacation\n",
    "    winter and summer are two seasons of the year\n",
    "    \n",
    "   **Output**\n",
    "    \n",
    "    Topic 1\n",
    "    it's very hot outside summer\n",
    "    in the summer we go to the sea\n",
    "    in summer we are on vacation\n",
    "    winter and summer are two seasons of the year\n",
    "\n",
    "    Topic 2\n",
    "    there are not many flowers in winter\n",
    "    in the winter we eat hot food\n",
    "    in winter we used many clothes\n",
    "    winter and summer are two seasons of the year"
   ]
  },
  {
   "cell_type": "code",
   "execution_count": null,
   "metadata": {},
   "outputs": [],
   "source": []
  }
 ],
 "metadata": {
  "kernelspec": {
   "display_name": "Python 3",
   "language": "python",
   "name": "python3"
  },
  "language_info": {
   "codemirror_mode": {
    "name": "ipython",
    "version": 3
   },
   "file_extension": ".py",
   "mimetype": "text/x-python",
   "name": "python",
   "nbconvert_exporter": "python",
   "pygments_lexer": "ipython3",
   "version": "3.7.1"
  }
 },
 "nbformat": 4,
 "nbformat_minor": 2
}
