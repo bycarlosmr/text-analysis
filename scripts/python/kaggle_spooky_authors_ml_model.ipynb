{
 "cells": [
  {
   "cell_type": "markdown",
   "metadata": {},
   "source": [
    "Objective: To predict the author of excerpts from horror stories by Edgar Allan Poe, Mary Shelley, and HP Lovecraft. \n",
    "\n",
    "Category: Text Analysis/ Natural Language Processing\n",
    "    \n",
    "Data Source: https://www.kaggle.com/c/spooky-author-identification"
   ]
  },
  {
   "cell_type": "code",
   "execution_count": 1,
   "metadata": {},
   "outputs": [
    {
     "data": {
      "text/plain": [
       "'C:\\\\Users\\\\Ashoo\\\\Documents\\\\R playground\\\\text-analysis\\\\scripts\\\\python'"
      ]
     },
     "execution_count": 1,
     "metadata": {},
     "output_type": "execute_result"
    }
   ],
   "source": [
    "# Print the current working directory\n",
    "import os\n",
    "os.getcwd()"
   ]
  },
  {
   "cell_type": "code",
   "execution_count": 36,
   "metadata": {},
   "outputs": [],
   "source": [
    "# Load the required libraries\n",
    "import pandas as pd\n",
    "import numpy as np\n",
    "from sklearn.feature_extraction.text import CountVectorizer as CV\n",
    "from sklearn.naive_bayes import MultinomialNB as MNB"
   ]
  },
  {
   "cell_type": "code",
   "execution_count": 17,
   "metadata": {},
   "outputs": [
    {
     "name": "stdout",
     "output_type": "stream",
     "text": [
      "C:\\Users\\Ashoo\\Documents\\R playground\\text-analysis\\data\\kaggle_spooky_authors\n"
     ]
    }
   ],
   "source": [
    "# set data path\n",
    "data_path = \"\"\n",
    "print(data_path)"
   ]
  },
  {
   "cell_type": "code",
   "execution_count": 20,
   "metadata": {},
   "outputs": [
    {
     "data": {
      "text/html": [
       "<div>\n",
       "<style scoped>\n",
       "    .dataframe tbody tr th:only-of-type {\n",
       "        vertical-align: middle;\n",
       "    }\n",
       "\n",
       "    .dataframe tbody tr th {\n",
       "        vertical-align: top;\n",
       "    }\n",
       "\n",
       "    .dataframe thead th {\n",
       "        text-align: right;\n",
       "    }\n",
       "</style>\n",
       "<table border=\"1\" class=\"dataframe\">\n",
       "  <thead>\n",
       "    <tr style=\"text-align: right;\">\n",
       "      <th></th>\n",
       "      <th>id</th>\n",
       "      <th>text</th>\n",
       "      <th>author</th>\n",
       "    </tr>\n",
       "  </thead>\n",
       "  <tbody>\n",
       "    <tr>\n",
       "      <th>0</th>\n",
       "      <td>id26305</td>\n",
       "      <td>This process, however, afforded me no means of...</td>\n",
       "      <td>EAP</td>\n",
       "    </tr>\n",
       "    <tr>\n",
       "      <th>1</th>\n",
       "      <td>id17569</td>\n",
       "      <td>It never once occurred to me that the fumbling...</td>\n",
       "      <td>HPL</td>\n",
       "    </tr>\n",
       "    <tr>\n",
       "      <th>2</th>\n",
       "      <td>id11008</td>\n",
       "      <td>In his left hand was a gold snuff box, from wh...</td>\n",
       "      <td>EAP</td>\n",
       "    </tr>\n",
       "    <tr>\n",
       "      <th>3</th>\n",
       "      <td>id27763</td>\n",
       "      <td>How lovely is spring As we looked from Windsor...</td>\n",
       "      <td>MWS</td>\n",
       "    </tr>\n",
       "    <tr>\n",
       "      <th>4</th>\n",
       "      <td>id12958</td>\n",
       "      <td>Finding nothing else, not even gold, the Super...</td>\n",
       "      <td>HPL</td>\n",
       "    </tr>\n",
       "  </tbody>\n",
       "</table>\n",
       "</div>"
      ],
      "text/plain": [
       "        id                                               text author\n",
       "0  id26305  This process, however, afforded me no means of...    EAP\n",
       "1  id17569  It never once occurred to me that the fumbling...    HPL\n",
       "2  id11008  In his left hand was a gold snuff box, from wh...    EAP\n",
       "3  id27763  How lovely is spring As we looked from Windsor...    MWS\n",
       "4  id12958  Finding nothing else, not even gold, the Super...    HPL"
      ]
     },
     "execution_count": 20,
     "metadata": {},
     "output_type": "execute_result"
    }
   ],
   "source": [
    "# Load the data\n",
    "training_data = pd.read_csv(\"C:\\\\Users\\\\Ashoo\\\\Documents\\\\R playground\\\\text-analysis\\\\data\\\\kaggle_spooky_authors\\\\train.csv\")\n",
    "testing_data=pd.read_csv(\"C:\\\\Users\\\\Ashoo\\\\Documents\\\\R playground\\\\text-analysis\\\\data\\\\kaggle_spooky_authors\\\\test.csv\")\n",
    "training_data.head()"
   ]
  },
  {
   "cell_type": "markdown",
   "metadata": {},
   "source": [
    "Map \"EAP\" to 0 \"HPL\" to 1 and \"MWS\" to 2\n",
    "\n",
    "Next we take all the rows under the column named \"text\" and put it in X ( a variable in python)\n",
    "\n",
    "Similarly we take all rows under the column named \"author_num\" and put it in y (a variable in python)"
   ]
  },
  {
   "cell_type": "code",
   "execution_count": 21,
   "metadata": {},
   "outputs": [
    {
     "name": "stdout",
     "output_type": "stream",
     "text": [
      "0    This process, however, afforded me no means of...\n",
      "1    It never once occurred to me that the fumbling...\n",
      "2    In his left hand was a gold snuff box, from wh...\n",
      "3    How lovely is spring As we looked from Windsor...\n",
      "4    Finding nothing else, not even gold, the Super...\n",
      "Name: text, dtype: object\n",
      "0    0\n",
      "1    1\n",
      "2    0\n",
      "3    2\n",
      "4    1\n",
      "Name: author_num, dtype: int64\n"
     ]
    }
   ],
   "source": [
    "training_data['author_num'] = training_data.author.map({'EAP':0, 'HPL':1, 'MWS':2})\n",
    "X = training_data['text']\n",
    "y = training_data['author_num']\n",
    "print (X.head())\n",
    "print (y.head())"
   ]
  },
  {
   "cell_type": "markdown",
   "metadata": {},
   "source": [
    "Now we need to split the data into training set and testing set. We train the model on the training set. Model testing is done on the test set.\n",
    "\n",
    "So we are going to split it into 70% for training and 30% for testing."
   ]
  },
  {
   "cell_type": "code",
   "execution_count": 22,
   "metadata": {},
   "outputs": [],
   "source": [
    "per=int(float(0.7)* len(X))\n",
    "X_train=X[:per]\n",
    "X_test=X[per:]\n",
    "y_train=y[:per]\n",
    "y_test=y[per:]"
   ]
  },
  {
   "cell_type": "markdown",
   "metadata": {},
   "source": [
    "##### Converting text data into numbers or in other words, `Vectorization`\n",
    "\n",
    "Computers get crazy with text, It only understands numbers, but we have got to classify text. Now what do we do? We do tokenization and vectorization to save the count of each word. "
   ]
  },
  {
   "cell_type": "code",
   "execution_count": 31,
   "metadata": {},
   "outputs": [
    {
     "name": "stdout",
     "output_type": "stream",
     "text": [
      "{'My': 0, 'name': 4, 'is': 2, 'Sindabad': 1, 'the': 6, 'sailor': 5, 'man': 3}\n",
      "1\n",
      "1\n",
      "1\n",
      "1\n",
      "1\n"
     ]
    }
   ],
   "source": [
    "#toy example\n",
    "text=[\"My name is Sindabad the sailor man\"]\n",
    "toy = CV(lowercase=False, token_pattern=r'\\w+|\\,')\n",
    "toy.fit_transform(text)\n",
    "print (toy.vocabulary_)\n",
    "matrix=toy.transform(text)\n",
    "print (matrix[0,0])\n",
    "print (matrix[0,1])\n",
    "print (matrix[0,2])\n",
    "print (matrix[0,3])\n",
    "print (matrix[0,4])"
   ]
  },
  {
   "cell_type": "code",
   "execution_count": 30,
   "metadata": {},
   "outputs": [
    {
     "name": "stdout",
     "output_type": "stream",
     "text": [
      "(13705, 27497)\n"
     ]
    }
   ],
   "source": [
    "vect = CV(lowercase=False, token_pattern=r'\\w+|\\,')\n",
    "X_cv=vect.fit_transform(X)\n",
    "X_train_cv = vect.transform(X_train)\n",
    "X_test_cv = vect.transform(X_test)\n",
    "print (X_train_cv.shape)"
   ]
  },
  {
   "cell_type": "markdown",
   "metadata": {},
   "source": [
    "The final step We give the data to the `clf.fit` for training and test it for score. Let's check the accuracy on training set"
   ]
  },
  {
   "cell_type": "code",
   "execution_count": 37,
   "metadata": {},
   "outputs": [
    {
     "data": {
      "text/plain": [
       "0.8432073544433095"
      ]
     },
     "execution_count": 37,
     "metadata": {},
     "output_type": "execute_result"
    }
   ],
   "source": [
    "MNB=MultinomialNB()\n",
    "MNB.fit(X_train_cv, y_train)\n",
    "MNB.score(X_test_cv, y_test)\n",
    "\n",
    "\n",
    "#clf=MultinomialNB()\n",
    "#clf.fit(X_train_cv, y_train)\n",
    "#clf.score(X_test_cv, y_test)"
   ]
  },
  {
   "cell_type": "markdown",
   "metadata": {},
   "source": [
    "Now, lets check the accuracy on the test set. But first vectorize the test set just like we did it for the training set."
   ]
  },
  {
   "cell_type": "code",
   "execution_count": 38,
   "metadata": {},
   "outputs": [],
   "source": [
    "X_test=vect.transform(testing_data[\"text\"])"
   ]
  },
  {
   "cell_type": "code",
   "execution_count": 39,
   "metadata": {},
   "outputs": [
    {
     "data": {
      "text/plain": [
       "(8392, 3)"
      ]
     },
     "execution_count": 39,
     "metadata": {},
     "output_type": "execute_result"
    }
   ],
   "source": [
    "MNB=MultinomialNB()\n",
    "MNB.fit(X_cv, y)\n",
    "predicted_result=MNB.predict_proba(X_test)\n",
    "predicted_result.shape"
   ]
  },
  {
   "cell_type": "markdown",
   "metadata": {},
   "source": [
    "We see that we got a result with 8392 rows presenting each text and 3 columns each column representing probability of each author."
   ]
  },
  {
   "cell_type": "code",
   "execution_count": 40,
   "metadata": {},
   "outputs": [
    {
     "data": {
      "text/html": [
       "<div>\n",
       "<style scoped>\n",
       "    .dataframe tbody tr th:only-of-type {\n",
       "        vertical-align: middle;\n",
       "    }\n",
       "\n",
       "    .dataframe tbody tr th {\n",
       "        vertical-align: top;\n",
       "    }\n",
       "\n",
       "    .dataframe thead th {\n",
       "        text-align: right;\n",
       "    }\n",
       "</style>\n",
       "<table border=\"1\" class=\"dataframe\">\n",
       "  <thead>\n",
       "    <tr style=\"text-align: right;\">\n",
       "      <th></th>\n",
       "      <th>id</th>\n",
       "      <th>EAP</th>\n",
       "      <th>HPL</th>\n",
       "      <th>MWS</th>\n",
       "    </tr>\n",
       "  </thead>\n",
       "  <tbody>\n",
       "    <tr>\n",
       "      <th>0</th>\n",
       "      <td>id02310</td>\n",
       "      <td>0.000924</td>\n",
       "      <td>2.968107e-05</td>\n",
       "      <td>9.990459e-01</td>\n",
       "    </tr>\n",
       "    <tr>\n",
       "      <th>1</th>\n",
       "      <td>id24541</td>\n",
       "      <td>1.000000</td>\n",
       "      <td>3.262255e-07</td>\n",
       "      <td>9.234086e-09</td>\n",
       "    </tr>\n",
       "    <tr>\n",
       "      <th>2</th>\n",
       "      <td>id00134</td>\n",
       "      <td>0.003193</td>\n",
       "      <td>9.968065e-01</td>\n",
       "      <td>8.737549e-07</td>\n",
       "    </tr>\n",
       "    <tr>\n",
       "      <th>3</th>\n",
       "      <td>id27757</td>\n",
       "      <td>0.920985</td>\n",
       "      <td>7.901473e-02</td>\n",
       "      <td>4.811097e-07</td>\n",
       "    </tr>\n",
       "    <tr>\n",
       "      <th>4</th>\n",
       "      <td>id04081</td>\n",
       "      <td>0.953158</td>\n",
       "      <td>5.981884e-03</td>\n",
       "      <td>4.086011e-02</td>\n",
       "    </tr>\n",
       "  </tbody>\n",
       "</table>\n",
       "</div>"
      ],
      "text/plain": [
       "        id       EAP           HPL           MWS\n",
       "0  id02310  0.000924  2.968107e-05  9.990459e-01\n",
       "1  id24541  1.000000  3.262255e-07  9.234086e-09\n",
       "2  id00134  0.003193  9.968065e-01  8.737549e-07\n",
       "3  id27757  0.920985  7.901473e-02  4.811097e-07\n",
       "4  id04081  0.953158  5.981884e-03  4.086011e-02"
      ]
     },
     "execution_count": 40,
     "metadata": {},
     "output_type": "execute_result"
    }
   ],
   "source": [
    "#NOW WE CREATE A RESULT DATA FRAME AND ADD THE COLUMNS NECESSARY FOR KAGGLE SUBMISSION\n",
    "result=pd.DataFrame()\n",
    "result[\"id\"]=testing_data[\"id\"]\n",
    "result[\"EAP\"]=predicted_result[:,0]\n",
    "result[\"HPL\"]=predicted_result[:,1]\n",
    "result[\"MWS\"]=predicted_result[:,2]\n",
    "result.head()"
   ]
  },
  {
   "cell_type": "markdown",
   "metadata": {},
   "source": [
    "FINALLY WE SUBMIT THE RESULT TO KAGGLE FOR EVALUATION"
   ]
  },
  {
   "cell_type": "code",
   "execution_count": 41,
   "metadata": {},
   "outputs": [],
   "source": [
    "result.to_csv(\"TO_SUBMIT.csv\", index=False)"
   ]
  },
  {
   "cell_type": "code",
   "execution_count": null,
   "metadata": {},
   "outputs": [],
   "source": []
  }
 ],
 "metadata": {
  "kernelspec": {
   "display_name": "Python 3",
   "language": "python",
   "name": "python3"
  },
  "language_info": {
   "codemirror_mode": {
    "name": "ipython",
    "version": 3
   },
   "file_extension": ".py",
   "mimetype": "text/x-python",
   "name": "python",
   "nbconvert_exporter": "python",
   "pygments_lexer": "ipython3",
   "version": "3.6.5"
  }
 },
 "nbformat": 4,
 "nbformat_minor": 2
}
